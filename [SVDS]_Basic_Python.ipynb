{
  "nbformat": 4,
  "nbformat_minor": 0,
  "metadata": {
    "colab": {
      "provenance": [],
      "toc_visible": true,
      "authorship_tag": "ABX9TyMpaZKyfxEGkuJgBDG5L7T7",
      "include_colab_link": true
    },
    "kernelspec": {
      "name": "python3",
      "display_name": "Python 3"
    },
    "language_info": {
      "name": "python"
    }
  },
  "cells": [
    {
      "cell_type": "markdown",
      "metadata": {
        "id": "view-in-github",
        "colab_type": "text"
      },
      "source": [
        "<a href=\"https://colab.research.google.com/github/ergonrizky26/data-science-learn/blob/main/%5BSVDS%5D_Basic_Python.ipynb\" target=\"_parent\"><img src=\"https://colab.research.google.com/assets/colab-badge.svg\" alt=\"Open In Colab\"/></a>"
      ]
    },
    {
      "cell_type": "markdown",
      "source": [
        "# 1. Fungsi dan Argumen\n",
        "**FUNGSI** adalah kode yang digunakan untuk menjalan suatu aksi </br>\n",
        "Aksi dari fungsi adalah **print()** <br>\n",
        "<br>\n",
        "**print()** digunakan untuk menampilkan argumen pada output <br>\n",
        "Argumen yang diterima oleh fungsi **print()**, antara lain : Teks/string, Operasi aritmatik, Operasi dari fungsi lain"
      ],
      "metadata": {
        "id": "6y-UHoLIAFCp"
      }
    },
    {
      "cell_type": "code",
      "source": [
        "# Teks/string\n",
        "print(\"Hello World\")"
      ],
      "metadata": {
        "colab": {
          "base_uri": "https://localhost:8080/"
        },
        "id": "JiUIYpt_ARDn",
        "outputId": "f2bd9bda-21c9-4c84-8de7-8feca1162d1f"
      },
      "execution_count": 5,
      "outputs": [
        {
          "output_type": "stream",
          "name": "stdout",
          "text": [
            "Hello World\n"
          ]
        }
      ]
    },
    {
      "cell_type": "code",
      "source": [
        "# Operasi aritmatik\n",
        "print(26+10)"
      ],
      "metadata": {
        "colab": {
          "base_uri": "https://localhost:8080/"
        },
        "id": "Ykyl22LnBgTp",
        "outputId": "e108f1fd-3367-40b6-8a50-40e120d4cc81"
      },
      "execution_count": 6,
      "outputs": [
        {
          "output_type": "stream",
          "name": "stdout",
          "text": [
            "36\n"
          ]
        }
      ]
    },
    {
      "cell_type": "code",
      "source": [
        "# Operasi dari fungsi lain -> identifikasi tipe data\n",
        "print(type(\"Hello World\"))"
      ],
      "metadata": {
        "colab": {
          "base_uri": "https://localhost:8080/"
        },
        "id": "L6UiEUXMBzqy",
        "outputId": "43d1d450-28bd-4a45-f792-9e60e553f1a4"
      },
      "execution_count": 9,
      "outputs": [
        {
          "output_type": "stream",
          "name": "stdout",
          "text": [
            "<class 'str'>\n"
          ]
        }
      ]
    },
    {
      "cell_type": "code",
      "source": [
        "# Operasi dari fungsi lain -> Menghitung panjang karakter\n",
        "print(len(\"Hello World\"))"
      ],
      "metadata": {
        "colab": {
          "base_uri": "https://localhost:8080/"
        },
        "id": "doLujjA0ChuS",
        "outputId": "ad83cec2-c970-4819-f22b-101eeeb7370a"
      },
      "execution_count": 11,
      "outputs": [
        {
          "output_type": "stream",
          "name": "stdout",
          "text": [
            "11\n"
          ]
        }
      ]
    },
    {
      "cell_type": "markdown",
      "source": [
        "## Latihan Fungsi dan Argumen"
      ],
      "metadata": {
        "id": "TZzM8Lz-Clx_"
      }
    },
    {
      "cell_type": "code",
      "source": [
        "print(\"Nama Anda\")"
      ],
      "metadata": {
        "colab": {
          "base_uri": "https://localhost:8080/"
        },
        "id": "pMJBmJrlDOzR",
        "outputId": "4d924843-b782-4544-e9ed-0dd40f109047"
      },
      "execution_count": 12,
      "outputs": [
        {
          "output_type": "stream",
          "name": "stdout",
          "text": [
            "Nama Anda\n"
          ]
        }
      ]
    },
    {
      "cell_type": "code",
      "source": [
        "print(\"10 September 2024\")"
      ],
      "metadata": {
        "colab": {
          "base_uri": "https://localhost:8080/"
        },
        "id": "dp5BLndODSqi",
        "outputId": "d108aef9-d227-4929-fde4-fe5d2fa610bd"
      },
      "execution_count": 13,
      "outputs": [
        {
          "output_type": "stream",
          "name": "stdout",
          "text": [
            "10 September 2024\n"
          ]
        }
      ]
    },
    {
      "cell_type": "code",
      "source": [
        "print(100/10)"
      ],
      "metadata": {
        "colab": {
          "base_uri": "https://localhost:8080/"
        },
        "id": "xNuU-eWyDWVq",
        "outputId": "382e8235-5eaf-4bfb-b92c-afbb6a63ba2a"
      },
      "execution_count": 14,
      "outputs": [
        {
          "output_type": "stream",
          "name": "stdout",
          "text": [
            "10.0\n"
          ]
        }
      ]
    },
    {
      "cell_type": "code",
      "source": [
        "print(2*5)"
      ],
      "metadata": {
        "colab": {
          "base_uri": "https://localhost:8080/"
        },
        "id": "z3t2IzO-DZm_",
        "outputId": "1e3debc4-516d-4b6e-d930-6b27abad8cee"
      },
      "execution_count": 15,
      "outputs": [
        {
          "output_type": "stream",
          "name": "stdout",
          "text": [
            "10\n"
          ]
        }
      ]
    },
    {
      "cell_type": "code",
      "source": [
        "print(type(100/10))"
      ],
      "metadata": {
        "colab": {
          "base_uri": "https://localhost:8080/"
        },
        "id": "AIhuCQB7DbN0",
        "outputId": "d37b53e9-73f9-49d1-b92d-3452d77e377d"
      },
      "execution_count": 16,
      "outputs": [
        {
          "output_type": "stream",
          "name": "stdout",
          "text": [
            "<class 'float'>\n"
          ]
        }
      ]
    },
    {
      "cell_type": "markdown",
      "source": [
        "# 2. Variabel\n",
        "**Variabel** adalah container yang dipakai untuk menyimpan data <br>\n",
        "1. Variabel dipakai agar tidak perlu mengulang menuliskan data setiap akan menjalankan suatu fungsi terhadap data tersebut\n",
        "2. Variabel dibuat dengan menuliskan nama variabel diikuti dengan '='"
      ],
      "metadata": {
        "id": "2_Hm6fpNE7is"
      }
    },
    {
      "cell_type": "code",
      "source": [
        "# Contoh penggunaan variabel\n",
        "tabungan = 100\n",
        "print(type(tabungan))"
      ],
      "metadata": {
        "colab": {
          "base_uri": "https://localhost:8080/"
        },
        "id": "TRNFB3x_STcH",
        "outputId": "9e653e64-d1a9-463f-bb69-93740ae41474"
      },
      "execution_count": 22,
      "outputs": [
        {
          "output_type": "stream",
          "name": "stdout",
          "text": [
            "<class 'int'>\n"
          ]
        }
      ]
    },
    {
      "cell_type": "code",
      "source": [
        "nama = \"Budi Agung\"\n",
        "print(type(nama))"
      ],
      "metadata": {
        "colab": {
          "base_uri": "https://localhost:8080/"
        },
        "id": "Hs0GEyvpSbK-",
        "outputId": "842fe186-824a-407b-d1f4-e8fcdc2c04aa"
      },
      "execution_count": 23,
      "outputs": [
        {
          "output_type": "stream",
          "name": "stdout",
          "text": [
            "<class 'str'>\n"
          ]
        }
      ]
    },
    {
      "cell_type": "markdown",
      "source": [
        "# 3. Tipe Data\n",
        "Beberapa tipe data yang dikenal oleh Python :\n",
        "1. Integer : Bilangan bulat\n",
        "2. Float : Bilangan pecahan\n",
        "3. String : Teks\n",
        "4. Boolean : true/false"
      ],
      "metadata": {
        "id": "mGlVJA10ShEJ"
      }
    },
    {
      "cell_type": "code",
      "source": [
        "# Tipe data integer\n",
        "a = 56\n",
        "print(type(a))"
      ],
      "metadata": {
        "colab": {
          "base_uri": "https://localhost:8080/"
        },
        "id": "PEFIhER1Pgc1",
        "outputId": "1951095b-8736-4c7a-963f-452ee8b95e57"
      },
      "execution_count": 1,
      "outputs": [
        {
          "output_type": "stream",
          "name": "stdout",
          "text": [
            "<class 'int'>\n"
          ]
        }
      ]
    },
    {
      "cell_type": "code",
      "source": [
        "# Tipe data float\n",
        "b = 56.49\n",
        "print(type(b))"
      ],
      "metadata": {
        "colab": {
          "base_uri": "https://localhost:8080/"
        },
        "id": "u4ZeJzoDP28L",
        "outputId": "f5ac2f23-542c-4af1-914e-47e4a2f0a847"
      },
      "execution_count": 2,
      "outputs": [
        {
          "output_type": "stream",
          "name": "stdout",
          "text": [
            "<class 'float'>\n"
          ]
        }
      ]
    },
    {
      "cell_type": "code",
      "source": [
        "# Tipe data string\n",
        "c = \"lima puluh enam\"\n",
        "print(type(c))"
      ],
      "metadata": {
        "colab": {
          "base_uri": "https://localhost:8080/"
        },
        "id": "ddGIuUvzP9Z6",
        "outputId": "6b2cf9a4-0b19-4447-aa8b-46c260e229e2"
      },
      "execution_count": 3,
      "outputs": [
        {
          "output_type": "stream",
          "name": "stdout",
          "text": [
            "<class 'str'>\n"
          ]
        }
      ]
    },
    {
      "cell_type": "code",
      "source": [
        "# Tipe data boolean\n",
        "d = 56 + 1 == 57\n",
        "e = 56 + 1 != 57\n",
        "\n",
        "print(d)\n",
        "print(e)\n",
        "print(type(d))\n",
        "print(type(e))"
      ],
      "metadata": {
        "colab": {
          "base_uri": "https://localhost:8080/"
        },
        "id": "oHxni9WmQEtG",
        "outputId": "34f94204-a7e0-4036-f636-60c6abe1822d"
      },
      "execution_count": 4,
      "outputs": [
        {
          "output_type": "stream",
          "name": "stdout",
          "text": [
            "True\n",
            "False\n",
            "<class 'bool'>\n",
            "<class 'bool'>\n"
          ]
        }
      ]
    },
    {
      "cell_type": "markdown",
      "source": [
        "## Latihan 2 Variabel dan Tipe Data"
      ],
      "metadata": {
        "id": "DbJfgsdDQTvf"
      }
    },
    {
      "cell_type": "markdown",
      "source": [
        "1. Buat 4 variabel dengan 4 tipe data berbeda : int, string, float, boolean"
      ],
      "metadata": {
        "id": "Bh4PnjJDRipX"
      }
    },
    {
      "cell_type": "code",
      "source": [
        "# Tipe data int\n",
        "int_a = 26\n",
        "\n",
        "# Tipe data string\n",
        "str_b = \"Dua puluh enam\"\n",
        "\n",
        "# Tipe data float\n",
        "float_c = 26.10\n",
        "\n",
        "# Tipe data boolean\n",
        "bool_d = 26 + 2 == 28\n",
        "bool_e = 26 + 2 != 28"
      ],
      "metadata": {
        "id": "sXXOaXSESNAO"
      },
      "execution_count": 5,
      "outputs": []
    },
    {
      "cell_type": "markdown",
      "source": [
        "2. Identifikasi tipe-tipe data pada 4 variabel yang telah dibuat menggunakan fungsi print() dan type()"
      ],
      "metadata": {
        "id": "NYIEtT6rSqfR"
      }
    },
    {
      "cell_type": "code",
      "source": [
        "print(type(int_a))\n",
        "print(type(str_b))\n",
        "print(type(float_c))\n",
        "print(bool_d)\n",
        "print(bool_e)\n",
        "print(type(bool_d))\n",
        "print(type(bool_e))"
      ],
      "metadata": {
        "colab": {
          "base_uri": "https://localhost:8080/"
        },
        "id": "rGUkzgOxS08E",
        "outputId": "05424c2c-c3bd-48d5-e62d-dcc95b0f9f2e"
      },
      "execution_count": 8,
      "outputs": [
        {
          "output_type": "stream",
          "name": "stdout",
          "text": [
            "<class 'int'>\n",
            "<class 'str'>\n",
            "<class 'float'>\n",
            "True\n",
            "False\n",
            "<class 'bool'>\n",
            "<class 'bool'>\n"
          ]
        }
      ]
    },
    {
      "cell_type": "markdown",
      "source": [
        "# 4. List\n",
        "LIST adalah kumpulan data yang terstruktur dengan urutan tertentu.\n",
        "1. List dibuat dengan menuliskan **\"[\"** dan **\"]\"** pada data data yang dipisahkan dengan **\",\"**\n",
        "2. Dalam list, tiap data memiliki index dengan urutan dari 0, 1, 2, dst"
      ],
      "metadata": {
        "id": "23tN5YG0TGKT"
      }
    },
    {
      "cell_type": "code",
      "source": [
        "a = 100\n",
        "b = \"Budi Agung\"\n",
        "c = [True, 35.46, a, b]\n",
        "\n",
        "print(c)\n",
        "print(type(c))"
      ],
      "metadata": {
        "colab": {
          "base_uri": "https://localhost:8080/"
        },
        "id": "526BUjQzTxGF",
        "outputId": "844ac72b-2c0c-47a7-a264-1a466ec72fef"
      },
      "execution_count": 9,
      "outputs": [
        {
          "output_type": "stream",
          "name": "stdout",
          "text": [
            "[True, 35.46, 100, 'Budi Agung']\n",
            "<class 'list'>\n"
          ]
        }
      ]
    },
    {
      "cell_type": "markdown",
      "source": [
        "- Indeks diperlukan untuk **subsetting**: mengidentifikasi/memanggil data dengan urutan tertentu dari list"
      ],
      "metadata": {
        "id": "llLTJapYUJlU"
      }
    },
    {
      "cell_type": "code",
      "source": [
        "print(c[0])\n",
        "print(c[1])\n",
        "print(c[3])\n",
        "print(c[-1]) # Indeks -1 menunjukkan data dengan urutan terakhir"
      ],
      "metadata": {
        "colab": {
          "base_uri": "https://localhost:8080/"
        },
        "id": "Se0fjTyvUbFf",
        "outputId": "ed3d3697-b7a1-49a1-d4f9-4ceb7498ddbc"
      },
      "execution_count": 11,
      "outputs": [
        {
          "output_type": "stream",
          "name": "stdout",
          "text": [
            "True\n",
            "35.46\n",
            "Budi Agung\n",
            "Budi Agung\n"
          ]
        }
      ]
    },
    {
      "cell_type": "markdown",
      "source": [
        "# 5. Melakukan Slicing pada List\n",
        "SLICING adalah proses memotong list dengan range indeks tertentu\n",
        "1. Range indeks ditulis dengan **[\"indeks awal\" : \"indeks akhir\"]**\n",
        "2. Indeks awal akan diikutsertakan pada output\n",
        "3. Indeks akhir tidak diikutsertakan pada output"
      ],
      "metadata": {
        "id": "w1da-TzbUnwJ"
      }
    },
    {
      "cell_type": "code",
      "source": [
        "slicing_c = [True, 35.46, 100, 'Budi Agung']\n",
        "print(type(slicing_c))"
      ],
      "metadata": {
        "colab": {
          "base_uri": "https://localhost:8080/"
        },
        "id": "wSUOHRsLHDWh",
        "outputId": "b59278df-40d0-4421-8fce-52598ab2c840"
      },
      "execution_count": 1,
      "outputs": [
        {
          "output_type": "stream",
          "name": "stdout",
          "text": [
            "<class 'list'>\n"
          ]
        }
      ]
    },
    {
      "cell_type": "code",
      "source": [
        "print(slicing_c[0:3]) # Data dgn indeks 0 diikutsertakan, data dengan indeks 3 tidak diikutsertakan"
      ],
      "metadata": {
        "colab": {
          "base_uri": "https://localhost:8080/"
        },
        "id": "ZzTQtkioHRMH",
        "outputId": "27e75caf-d696-4a96-8f9c-3d5d00638281"
      },
      "execution_count": 3,
      "outputs": [
        {
          "output_type": "stream",
          "name": "stdout",
          "text": [
            "[True, 35.46, 100]\n"
          ]
        }
      ]
    },
    {
      "cell_type": "code",
      "source": [
        "print(slicing_c[:3]) # Apabila slicing dilakukan dari awal list, indeks awal tidak perlu dituliskan"
      ],
      "metadata": {
        "colab": {
          "base_uri": "https://localhost:8080/"
        },
        "id": "uR1oLav6HWUn",
        "outputId": "18906590-88d6-4ac6-e4ed-c769596d3bb1"
      },
      "execution_count": 4,
      "outputs": [
        {
          "output_type": "stream",
          "name": "stdout",
          "text": [
            "[True, 35.46, 100]\n"
          ]
        }
      ]
    },
    {
      "cell_type": "code",
      "source": [
        "print(slicing_c[1:]) # Apabila slicing dilakukan sampai akhir list, indeks akhir tidak perlu dituliskan"
      ],
      "metadata": {
        "colab": {
          "base_uri": "https://localhost:8080/"
        },
        "id": "Na4_jp2RIPHR",
        "outputId": "048135f0-ddcf-4ee4-c210-2f67782197d0"
      },
      "execution_count": 5,
      "outputs": [
        {
          "output_type": "stream",
          "name": "stdout",
          "text": [
            "[35.46, 100, 'Budi Agung']\n"
          ]
        }
      ]
    },
    {
      "cell_type": "markdown",
      "source": [
        "## Latihan 3 List"
      ],
      "metadata": {
        "id": "LMiAuedfIdSH"
      }
    },
    {
      "cell_type": "markdown",
      "source": [
        "1. Buat 4 variabel :    \n",
        "nama = 'Nama_anda\" <br>\n",
        "jarak_km = 5 <br>\n",
        "jarak_mil = 5 * 0.62 <br>\n",
        "jarak_beda = jarak_km == jarak_mil"
      ],
      "metadata": {
        "id": "--2A830OJGL7"
      }
    },
    {
      "cell_type": "code",
      "source": [
        "nama = \"Budi Agung\"\n",
        "jarak_km = 5\n",
        "jarak_mil = 5 * 0.62\n",
        "jarak_beda = jarak_km == jarak_mil"
      ],
      "metadata": {
        "id": "EsOW59v8JeSS"
      },
      "execution_count": 6,
      "outputs": []
    },
    {
      "cell_type": "markdown",
      "source": [
        "2. Identifikasi tipe-tipe data pada 4 variabel yang telah dibuat menggunakan fungsi print() dan type()"
      ],
      "metadata": {
        "id": "JTTCu5D7Kf6e"
      }
    },
    {
      "cell_type": "code",
      "source": [
        "print(type(nama))\n",
        "print(type(jarak_km))\n",
        "print(type(jarak_mil))\n",
        "print(type(jarak_beda))"
      ],
      "metadata": {
        "colab": {
          "base_uri": "https://localhost:8080/"
        },
        "id": "n_gwGSaBLno7",
        "outputId": "2e220479-c0ef-4a31-d750-8dae998cf553"
      },
      "execution_count": 7,
      "outputs": [
        {
          "output_type": "stream",
          "name": "stdout",
          "text": [
            "<class 'str'>\n",
            "<class 'int'>\n",
            "<class 'float'>\n",
            "<class 'bool'>\n"
          ]
        }
      ]
    },
    {
      "cell_type": "markdown",
      "source": [
        "3. Slice 2 data terakhir dari list yang dibuat"
      ],
      "metadata": {
        "id": "f61ZDljFLsVG"
      }
    },
    {
      "cell_type": "code",
      "source": [
        "list_a = [nama, jarak_km, jarak_mil, jarak_beda]\n",
        "print(type(list_a))"
      ],
      "metadata": {
        "colab": {
          "base_uri": "https://localhost:8080/"
        },
        "id": "fEU1InpIMGtp",
        "outputId": "d5479f5d-2aca-42fd-f01e-555b7b90a0a6"
      },
      "execution_count": 8,
      "outputs": [
        {
          "output_type": "stream",
          "name": "stdout",
          "text": [
            "<class 'list'>\n"
          ]
        }
      ]
    },
    {
      "cell_type": "code",
      "source": [
        "print(list_a[-2:])"
      ],
      "metadata": {
        "colab": {
          "base_uri": "https://localhost:8080/"
        },
        "id": "ji9QGMNrMl0i",
        "outputId": "c179a58a-a55d-4b5b-cd61-b0b3ca65e83a"
      },
      "execution_count": 9,
      "outputs": [
        {
          "output_type": "stream",
          "name": "stdout",
          "text": [
            "[3.1, False]\n"
          ]
        }
      ]
    },
    {
      "cell_type": "markdown",
      "source": [
        "4. SLice 2 data pertama dari lsit yang dibuat"
      ],
      "metadata": {
        "id": "AaT7jBOxMzoA"
      }
    },
    {
      "cell_type": "code",
      "source": [
        "print(list_a[:2])"
      ],
      "metadata": {
        "colab": {
          "base_uri": "https://localhost:8080/"
        },
        "id": "r_igGO5jNAWa",
        "outputId": "287a6a1f-15b3-4092-ced5-6e0aaa7ed070"
      },
      "execution_count": 11,
      "outputs": [
        {
          "output_type": "stream",
          "name": "stdout",
          "text": [
            "['Budi Agung', 5]\n"
          ]
        }
      ]
    },
    {
      "cell_type": "markdown",
      "source": [],
      "metadata": {
        "id": "6EIGD8qeNE68"
      }
    }
  ]
}